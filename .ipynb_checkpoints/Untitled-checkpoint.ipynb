{
 "cells": [
  {
   "cell_type": "code",
   "execution_count": 46,
   "id": "a6893071",
   "metadata": {},
   "outputs": [],
   "source": [
    "def number_splitter(input):\n",
    "    amount_list =[]\n",
    "    product_list = []\n",
    "    temp_amount_list =[]\n",
    "    temp_product_list = []\n",
    "    for character in input:\n",
    "        if character.isnumeric():\n",
    "            if len(temp_product_list) != 0:\n",
    "                if temp_product_list[0] != '':\n",
    "                    product_list.append(\"\".join(temp_product_list))\n",
    "                    print(product_list)\n",
    "                    temp_product_list = []\n",
    "            temp_amount_list.append(character)\n",
    "        elif character.isalpha():\n",
    "            if len(temp_amount_list) != 0:\n",
    "                if temp_amount_list[0] != '': \n",
    "                    amount_list.append(\"\".join(temp_amount_list))\n",
    "                    temp_amount_list = []\n",
    "            temp_product_list.append(character)\n",
    "    if len(temp_product_list) != 0:\n",
    "            product_list.append(\"\".join(temp_product_list))\n",
    "    if len(temp_amount_list) != 0:\n",
    "            amount_list.append(\"\".join(temp_amount_list))\n",
    "\n",
    "    return dict(zip(product_list, amount_list))"
   ]
  },
  {
   "cell_type": "code",
   "execution_count": 47,
   "id": "e9385a5f",
   "metadata": {},
   "outputs": [],
   "source": [
    "test = \"7 spray 5pasta16juice 7 csta 27 chiz bread 15 m&c 22 semi polly\""
   ]
  },
  {
   "cell_type": "code",
   "execution_count": 48,
   "id": "5df4eaed",
   "metadata": {},
   "outputs": [
    {
     "name": "stdout",
     "output_type": "stream",
     "text": [
      "['spray']\n",
      "['spray', 'pasta']\n",
      "['spray', 'pasta', 'juice']\n",
      "['spray', 'pasta', 'juice', 'csta']\n",
      "['spray', 'pasta', 'juice', 'csta', 'chizbread']\n",
      "['spray', 'pasta', 'juice', 'csta', 'chizbread', 'mc']\n",
      "[]\n",
      "['s', 'e', 'm', 'i', 'p', 'o', 'l', 'l', 'y']\n",
      "wut: ['spray', 'pasta', 'juice', 'csta', 'chizbread', 'mc', 'semipolly']\n"
     ]
    },
    {
     "data": {
      "text/plain": [
       "{'spray': '7',\n",
       " 'pasta': '5',\n",
       " 'juice': '16',\n",
       " 'csta': '7',\n",
       " 'chizbread': '27',\n",
       " 'mc': '15',\n",
       " 'semipolly': '22'}"
      ]
     },
     "execution_count": 48,
     "metadata": {},
     "output_type": "execute_result"
    }
   ],
   "source": [
    "number_splitter(test)"
   ]
  },
  {
   "cell_type": "code",
   "execution_count": null,
   "id": "7ff0a1ce",
   "metadata": {},
   "outputs": [],
   "source": []
  }
 ],
 "metadata": {
  "kernelspec": {
   "display_name": "Python 3 (ipykernel)",
   "language": "python",
   "name": "python3"
  },
  "language_info": {
   "codemirror_mode": {
    "name": "ipython",
    "version": 3
   },
   "file_extension": ".py",
   "mimetype": "text/x-python",
   "name": "python",
   "nbconvert_exporter": "python",
   "pygments_lexer": "ipython3",
   "version": "3.8.12"
  },
  "toc": {
   "base_numbering": 1,
   "nav_menu": {},
   "number_sections": true,
   "sideBar": true,
   "skip_h1_title": false,
   "title_cell": "Table of Contents",
   "title_sidebar": "Contents",
   "toc_cell": false,
   "toc_position": {},
   "toc_section_display": true,
   "toc_window_display": false
  }
 },
 "nbformat": 4,
 "nbformat_minor": 5
}
